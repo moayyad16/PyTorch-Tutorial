{
  "nbformat": 4,
  "nbformat_minor": 0,
  "metadata": {
    "colab": {
      "provenance": [],
      "gpuType": "T4"
    },
    "kernelspec": {
      "name": "python3",
      "display_name": "Python 3"
    },
    "language_info": {
      "name": "python"
    },
    "accelerator": "GPU"
  },
  "cells": [
    {
      "cell_type": "markdown",
      "source": [
        "### Moayyed Mesleh"
      ],
      "metadata": {
        "id": "z5N22XgMfvmA"
      }
    },
    {
      "cell_type": "markdown",
      "source": [
        "# PyTorch\n",
        "\n",
        "Fundamental of pytorch basics"
      ],
      "metadata": {
        "id": "5za8FtFw-fLK"
      }
    },
    {
      "cell_type": "markdown",
      "source": [
        "## Create a (scaler, vector, matrix, tensor)"
      ],
      "metadata": {
        "id": "jQHD8biRusMQ"
      }
    },
    {
      "cell_type": "code",
      "execution_count": 1,
      "metadata": {
        "colab": {
          "base_uri": "https://localhost:8080/"
        },
        "id": "amJwpKyICIIU",
        "outputId": "730df0a5-9bec-476b-9c48-ae818445ef62"
      },
      "outputs": [
        {
          "output_type": "stream",
          "name": "stdout",
          "text": [
            "2.1.0+cu121\n"
          ]
        }
      ],
      "source": [
        "import torch\n",
        "# Check the version of PyTorch\n",
        "print(torch.__version__)"
      ]
    },
    {
      "cell_type": "code",
      "source": [
        "# Create a tensor of a scalar value, where the scalar refers to a single number\n",
        "scalar = torch.tensor(5)\n",
        "scalar"
      ],
      "metadata": {
        "colab": {
          "base_uri": "https://localhost:8080/"
        },
        "id": "zow-TdIqCgTq",
        "outputId": "c47a8b41-849e-46e4-f2c2-948912eb30d3"
      },
      "execution_count": 2,
      "outputs": [
        {
          "output_type": "execute_result",
          "data": {
            "text/plain": [
              "tensor(5)"
            ]
          },
          "metadata": {},
          "execution_count": 2
        }
      ]
    },
    {
      "cell_type": "code",
      "source": [
        "# Find the dimension of the tensor, scalar alwayes have zero dimension\n",
        "scalar.ndim"
      ],
      "metadata": {
        "colab": {
          "base_uri": "https://localhost:8080/"
        },
        "id": "Hf4vZgfrMYTy",
        "outputId": "4f372233-2635-419b-bb16-2eebbdaffd6a"
      },
      "execution_count": 3,
      "outputs": [
        {
          "output_type": "execute_result",
          "data": {
            "text/plain": [
              "0"
            ]
          },
          "metadata": {},
          "execution_count": 3
        }
      ]
    },
    {
      "cell_type": "code",
      "source": [
        "# The data type of the tensor\n",
        "scalar.dtype"
      ],
      "metadata": {
        "colab": {
          "base_uri": "https://localhost:8080/"
        },
        "id": "9Q7ovqQtio2A",
        "outputId": "75eef68a-e514-4273-b1f3-bb426225510f"
      },
      "execution_count": 4,
      "outputs": [
        {
          "output_type": "execute_result",
          "data": {
            "text/plain": [
              "torch.int64"
            ]
          },
          "metadata": {},
          "execution_count": 4
        }
      ]
    },
    {
      "cell_type": "code",
      "source": [
        "# Get tensor back as python int\n",
        "scalar_py = scalar.item()\n",
        "print(f\"The tensor after convert it bak to python intger: {scalar_py}\")\n",
        "print(f\"The data type of it: {type(scalar_py)}\")"
      ],
      "metadata": {
        "colab": {
          "base_uri": "https://localhost:8080/"
        },
        "id": "P7wvr45fMwky",
        "outputId": "f68366c4-a91e-49ab-be9e-afe77d0ef5ef"
      },
      "execution_count": 5,
      "outputs": [
        {
          "output_type": "stream",
          "name": "stdout",
          "text": [
            "The tensor after convert it bak to python intger: 5\n",
            "The data type of it: <class 'int'>\n"
          ]
        }
      ]
    },
    {
      "cell_type": "code",
      "source": [
        "# Vector\n",
        "vector = torch.tensor([1, 2, 3])\n",
        "vector"
      ],
      "metadata": {
        "colab": {
          "base_uri": "https://localhost:8080/"
        },
        "id": "rkBMoYRMNBUv",
        "outputId": "51972081-b36b-408c-9504-8a795d1b4865"
      },
      "execution_count": 6,
      "outputs": [
        {
          "output_type": "execute_result",
          "data": {
            "text/plain": [
              "tensor([1, 2, 3])"
            ]
          },
          "metadata": {},
          "execution_count": 6
        }
      ]
    },
    {
      "cell_type": "code",
      "source": [
        "# The number of dimensions for a vector\n",
        "vector.ndim"
      ],
      "metadata": {
        "colab": {
          "base_uri": "https://localhost:8080/"
        },
        "id": "pnNs77eyN5-Z",
        "outputId": "90fef7cf-f6c9-4473-c64f-59e74c1949dd"
      },
      "execution_count": 7,
      "outputs": [
        {
          "output_type": "execute_result",
          "data": {
            "text/plain": [
              "1"
            ]
          },
          "metadata": {},
          "execution_count": 7
        }
      ]
    },
    {
      "cell_type": "code",
      "source": [
        "# Matrix\n",
        "matrix = torch.tensor([[1, 2, 3, 4],\n",
        "                       [5, 6, 7, 8]])\n",
        "matrix"
      ],
      "metadata": {
        "colab": {
          "base_uri": "https://localhost:8080/"
        },
        "id": "Tgic6TqfvTCc",
        "outputId": "a124ccbd-ab8d-4554-e486-8b089b400403"
      },
      "execution_count": 8,
      "outputs": [
        {
          "output_type": "execute_result",
          "data": {
            "text/plain": [
              "tensor([[1, 2, 3, 4],\n",
              "        [5, 6, 7, 8]])"
            ]
          },
          "metadata": {},
          "execution_count": 8
        }
      ]
    },
    {
      "cell_type": "code",
      "source": [
        "# The number of dimensions\n",
        "matrix.ndim"
      ],
      "metadata": {
        "colab": {
          "base_uri": "https://localhost:8080/"
        },
        "id": "ue2HPqrWvs00",
        "outputId": "1e23481f-962e-48e9-b37f-31f59ff27d49"
      },
      "execution_count": 9,
      "outputs": [
        {
          "output_type": "execute_result",
          "data": {
            "text/plain": [
              "2"
            ]
          },
          "metadata": {},
          "execution_count": 9
        }
      ]
    },
    {
      "cell_type": "code",
      "source": [
        "# Create tensor\n",
        "tensor = torch.tensor([[[1, 2, 3],\n",
        "                        [4, 5, 6],\n",
        "                        [7, 8, 9],\n",
        "                        [10, 11, 12]],\n",
        "                       [[1, 2, 3],\n",
        "                        [4, 5, 6],\n",
        "                        [7, 8, 9],\n",
        "                        [10, 11, 12]]])\n",
        "tensor"
      ],
      "metadata": {
        "colab": {
          "base_uri": "https://localhost:8080/"
        },
        "id": "VNfECzf1vxF0",
        "outputId": "710d35b0-f523-49f1-c6e6-1feb888164cf"
      },
      "execution_count": 10,
      "outputs": [
        {
          "output_type": "execute_result",
          "data": {
            "text/plain": [
              "tensor([[[ 1,  2,  3],\n",
              "         [ 4,  5,  6],\n",
              "         [ 7,  8,  9],\n",
              "         [10, 11, 12]],\n",
              "\n",
              "        [[ 1,  2,  3],\n",
              "         [ 4,  5,  6],\n",
              "         [ 7,  8,  9],\n",
              "         [10, 11, 12]]])"
            ]
          },
          "metadata": {},
          "execution_count": 10
        }
      ]
    },
    {
      "cell_type": "code",
      "source": [
        "tensor.ndim"
      ],
      "metadata": {
        "colab": {
          "base_uri": "https://localhost:8080/"
        },
        "id": "FsEJxHs8wFd_",
        "outputId": "2b7af618-fe96-422c-c003-103ae5b1cee9"
      },
      "execution_count": 11,
      "outputs": [
        {
          "output_type": "execute_result",
          "data": {
            "text/plain": [
              "3"
            ]
          },
          "metadata": {},
          "execution_count": 11
        }
      ]
    },
    {
      "cell_type": "code",
      "source": [
        "tensor.shape"
      ],
      "metadata": {
        "colab": {
          "base_uri": "https://localhost:8080/"
        },
        "id": "1HYxM07cwtNW",
        "outputId": "08448ae3-05ea-42f0-c696-a768d70c3355"
      },
      "execution_count": 12,
      "outputs": [
        {
          "output_type": "execute_result",
          "data": {
            "text/plain": [
              "torch.Size([2, 4, 3])"
            ]
          },
          "metadata": {},
          "execution_count": 12
        }
      ]
    },
    {
      "cell_type": "markdown",
      "source": [
        "To clarify, the tensor has multiple dimensions as follows:\n",
        "\n",
        "* A tensor with zero dimensions is a scalar.\n",
        "* A tensor with one dimension is called a vector.\n",
        "* A tensor with two dimensions is called a matrix.\n",
        "* It is common to refer to a tensor with more than three dimensions simply as a tensor."
      ],
      "metadata": {
        "id": "lbYlP1-DlxBp"
      }
    },
    {
      "cell_type": "markdown",
      "source": [
        "## Create a random tensor"
      ],
      "metadata": {
        "id": "JqZ_8R47xi3c"
      }
    },
    {
      "cell_type": "code",
      "source": [
        "# Create a random tensor given the size\n",
        "random_tensor = torch.rand(3, 4)\n",
        "random_tensor"
      ],
      "metadata": {
        "colab": {
          "base_uri": "https://localhost:8080/"
        },
        "id": "_HeQSgKNyL0u",
        "outputId": "08620b4c-4e1e-4e53-c211-ad9f70b84aec"
      },
      "execution_count": 13,
      "outputs": [
        {
          "output_type": "execute_result",
          "data": {
            "text/plain": [
              "tensor([[0.0338, 0.7396, 0.7660, 0.5851],\n",
              "        [0.9443, 0.7977, 0.3541, 0.9636],\n",
              "        [0.9698, 0.7879, 0.5866, 0.2403]])"
            ]
          },
          "metadata": {},
          "execution_count": 13
        }
      ]
    },
    {
      "cell_type": "code",
      "source": [
        "# Create a random tensor of image size\n",
        "image_size_random_tensor = torch.rand(size=(256, 256, 3))\n",
        "image_size_random_tensor.shape, image_size_random_tensor.ndim"
      ],
      "metadata": {
        "colab": {
          "base_uri": "https://localhost:8080/"
        },
        "id": "NU-kAoleynRF",
        "outputId": "748f1642-89f0-496f-c67e-8e5ffdf7605b"
      },
      "execution_count": 14,
      "outputs": [
        {
          "output_type": "execute_result",
          "data": {
            "text/plain": [
              "(torch.Size([256, 256, 3]), 3)"
            ]
          },
          "metadata": {},
          "execution_count": 14
        }
      ]
    },
    {
      "cell_type": "code",
      "source": [
        "image_size_random_tensor"
      ],
      "metadata": {
        "id": "0fg4Au3xz7d_",
        "outputId": "c1bd6b83-088f-42b5-eedf-369d7f932c26",
        "colab": {
          "base_uri": "https://localhost:8080/"
        }
      },
      "execution_count": 15,
      "outputs": [
        {
          "output_type": "execute_result",
          "data": {
            "text/plain": [
              "tensor([[[0.7581, 0.0678, 0.1422],\n",
              "         [0.2171, 0.3682, 0.2415],\n",
              "         [0.5009, 0.6302, 0.6224],\n",
              "         ...,\n",
              "         [0.3267, 0.2310, 0.1014],\n",
              "         [0.6395, 0.7436, 0.3482],\n",
              "         [0.0645, 0.4099, 0.2467]],\n",
              "\n",
              "        [[0.6081, 0.8017, 0.2876],\n",
              "         [0.3115, 0.3083, 0.2703],\n",
              "         [0.0761, 0.2974, 0.0776],\n",
              "         ...,\n",
              "         [0.5894, 0.2711, 0.6351],\n",
              "         [0.1976, 0.0985, 0.5893],\n",
              "         [0.6710, 0.2026, 0.6776]],\n",
              "\n",
              "        [[0.5403, 0.1048, 0.3222],\n",
              "         [0.8374, 0.7098, 0.0347],\n",
              "         [0.7007, 0.5307, 0.8156],\n",
              "         ...,\n",
              "         [0.9992, 0.2465, 0.8691],\n",
              "         [0.7393, 0.4843, 0.3928],\n",
              "         [0.3787, 0.2775, 0.1521]],\n",
              "\n",
              "        ...,\n",
              "\n",
              "        [[0.1377, 0.9438, 0.0467],\n",
              "         [0.1805, 0.5655, 0.0663],\n",
              "         [0.7816, 0.9001, 0.7567],\n",
              "         ...,\n",
              "         [0.1470, 0.9397, 0.4189],\n",
              "         [0.1064, 0.5543, 0.8518],\n",
              "         [0.5971, 0.1358, 0.8008]],\n",
              "\n",
              "        [[0.1900, 0.5128, 0.8735],\n",
              "         [0.6931, 0.4483, 0.7889],\n",
              "         [0.7876, 0.7038, 0.6881],\n",
              "         ...,\n",
              "         [0.9370, 0.1991, 0.8033],\n",
              "         [0.1170, 0.3483, 0.3385],\n",
              "         [0.5443, 0.5348, 0.0771]],\n",
              "\n",
              "        [[0.1714, 0.0814, 0.7049],\n",
              "         [0.9412, 0.7675, 0.5854],\n",
              "         [0.5213, 0.9993, 0.6297],\n",
              "         ...,\n",
              "         [0.4343, 0.3576, 0.4742],\n",
              "         [0.5631, 0.6741, 0.3346],\n",
              "         [0.7991, 0.7912, 0.6358]]])"
            ]
          },
          "metadata": {},
          "execution_count": 15
        }
      ]
    },
    {
      "cell_type": "markdown",
      "source": [
        "## Zeros and Ones"
      ],
      "metadata": {
        "id": "IdSOFRtzz-As"
      }
    },
    {
      "cell_type": "code",
      "source": [
        "# Create a tensor of zero values\n",
        "zeros = torch.zeros(3, 4)\n",
        "zeros"
      ],
      "metadata": {
        "colab": {
          "base_uri": "https://localhost:8080/"
        },
        "id": "arVqiCFkKlk_",
        "outputId": "2122daca-0062-4b78-f7f2-d6deed0e2827"
      },
      "execution_count": 16,
      "outputs": [
        {
          "output_type": "execute_result",
          "data": {
            "text/plain": [
              "tensor([[0., 0., 0., 0.],\n",
              "        [0., 0., 0., 0.],\n",
              "        [0., 0., 0., 0.]])"
            ]
          },
          "metadata": {},
          "execution_count": 16
        }
      ]
    },
    {
      "cell_type": "code",
      "source": [
        "zeros.dtype"
      ],
      "metadata": {
        "colab": {
          "base_uri": "https://localhost:8080/"
        },
        "id": "K-xQCAWmoNU9",
        "outputId": "aa17251a-9a2d-45ef-f024-038091c28e4c"
      },
      "execution_count": 17,
      "outputs": [
        {
          "output_type": "execute_result",
          "data": {
            "text/plain": [
              "torch.float32"
            ]
          },
          "metadata": {},
          "execution_count": 17
        }
      ]
    },
    {
      "cell_type": "code",
      "source": [
        "# Of ones\n",
        "ones = torch.ones(3, 4)\n",
        "ones"
      ],
      "metadata": {
        "colab": {
          "base_uri": "https://localhost:8080/"
        },
        "id": "5ZDu7Tt9V8d9",
        "outputId": "eb1d63f6-7ab6-48b7-8817-26d264be3acd"
      },
      "execution_count": 18,
      "outputs": [
        {
          "output_type": "execute_result",
          "data": {
            "text/plain": [
              "tensor([[1., 1., 1., 1.],\n",
              "        [1., 1., 1., 1.],\n",
              "        [1., 1., 1., 1.]])"
            ]
          },
          "metadata": {},
          "execution_count": 18
        }
      ]
    },
    {
      "cell_type": "code",
      "source": [
        "ones.dtype"
      ],
      "metadata": {
        "colab": {
          "base_uri": "https://localhost:8080/"
        },
        "id": "2d28JVuOWGqG",
        "outputId": "fa076445-7ede-456b-a3be-27bc1e59c469"
      },
      "execution_count": 19,
      "outputs": [
        {
          "output_type": "execute_result",
          "data": {
            "text/plain": [
              "torch.float32"
            ]
          },
          "metadata": {},
          "execution_count": 19
        }
      ]
    },
    {
      "cell_type": "markdown",
      "source": [
        "## The arange and tensors-like"
      ],
      "metadata": {
        "id": "tL0WwNYOWI0n"
      }
    },
    {
      "cell_type": "code",
      "source": [
        "# Use arange function to create a tensor of values between to numbers\n",
        "one_to_ten = torch.arange(1, 10)\n",
        "one_to_ten"
      ],
      "metadata": {
        "colab": {
          "base_uri": "https://localhost:8080/"
        },
        "id": "Sw3LtfziXhoU",
        "outputId": "d589c4ac-fe00-4635-cb05-8bc42ad4490c"
      },
      "execution_count": 20,
      "outputs": [
        {
          "output_type": "execute_result",
          "data": {
            "text/plain": [
              "tensor([1, 2, 3, 4, 5, 6, 7, 8, 9])"
            ]
          },
          "metadata": {},
          "execution_count": 20
        }
      ]
    },
    {
      "cell_type": "code",
      "source": [
        "zeros_2 = torch.zeros_like(random_tensor) ## Converting an existing  tensor to zeros of the same shape (size)\n",
        "zeros_2"
      ],
      "metadata": {
        "colab": {
          "base_uri": "https://localhost:8080/"
        },
        "id": "LiDZ4RLDYjoY",
        "outputId": "5a175b36-cf00-40ca-b12c-73b10f281f7e"
      },
      "execution_count": 21,
      "outputs": [
        {
          "output_type": "execute_result",
          "data": {
            "text/plain": [
              "tensor([[0., 0., 0., 0.],\n",
              "        [0., 0., 0., 0.],\n",
              "        [0., 0., 0., 0.]])"
            ]
          },
          "metadata": {},
          "execution_count": 21
        }
      ]
    },
    {
      "cell_type": "markdown",
      "source": [
        "## Tensor Datatype"
      ],
      "metadata": {
        "id": "w1pdZK9oYxG4"
      }
    },
    {
      "cell_type": "code",
      "source": [
        "tensor_32 = torch.tensor([2., 4., 5.],\n",
        "                         dtype=None,## The default data type of the integers is int64 and for floats is float32\n",
        "                         device=None,## cpu, cuda\n",
        "                         requires_grad=False)\n",
        "tensor_32"
      ],
      "metadata": {
        "colab": {
          "base_uri": "https://localhost:8080/"
        },
        "id": "9q1Q5m-AZaSh",
        "outputId": "c4e4ad85-05d4-4334-cf98-9d9ca8516e0a"
      },
      "execution_count": 22,
      "outputs": [
        {
          "output_type": "execute_result",
          "data": {
            "text/plain": [
              "tensor([2., 4., 5.])"
            ]
          },
          "metadata": {},
          "execution_count": 22
        }
      ]
    },
    {
      "cell_type": "code",
      "source": [
        "tensor_32.dtype"
      ],
      "metadata": {
        "colab": {
          "base_uri": "https://localhost:8080/"
        },
        "id": "z7XidREwZri4",
        "outputId": "6df62e2b-ebc8-42f0-ff6e-9aa9e6a4c1fb"
      },
      "execution_count": 23,
      "outputs": [
        {
          "output_type": "execute_result",
          "data": {
            "text/plain": [
              "torch.float32"
            ]
          },
          "metadata": {},
          "execution_count": 23
        }
      ]
    },
    {
      "cell_type": "code",
      "source": [
        "# Convert the datatype of the tensor\n",
        "tensor_16 = tensor_32.type(torch.float16)\n",
        "tensor_16"
      ],
      "metadata": {
        "id": "cUmI3aG2Z7yL",
        "colab": {
          "base_uri": "https://localhost:8080/"
        },
        "outputId": "c3e8f363-9208-4ebc-fe02-8a521b9425c8"
      },
      "execution_count": 24,
      "outputs": [
        {
          "output_type": "execute_result",
          "data": {
            "text/plain": [
              "tensor([2., 4., 5.], dtype=torch.float16)"
            ]
          },
          "metadata": {},
          "execution_count": 24
        }
      ]
    },
    {
      "cell_type": "markdown",
      "source": [
        "## Getting Tensor Attributes"
      ],
      "metadata": {
        "id": "RM6aBHv4spss"
      }
    },
    {
      "cell_type": "code",
      "source": [
        "a_tensor = torch.rand((3, 4), dtype=torch.float64)\n",
        "a_tensor"
      ],
      "metadata": {
        "colab": {
          "base_uri": "https://localhost:8080/"
        },
        "id": "LvKygoEAAMS-",
        "outputId": "e8c2a2db-1f57-459d-e0cb-d1d732447ec6"
      },
      "execution_count": 25,
      "outputs": [
        {
          "output_type": "execute_result",
          "data": {
            "text/plain": [
              "tensor([[0.4412, 0.0404, 0.4903, 0.6450],\n",
              "        [0.6796, 0.0505, 0.7742, 0.9611],\n",
              "        [0.4933, 0.0385, 0.3210, 0.4360]], dtype=torch.float64)"
            ]
          },
          "metadata": {},
          "execution_count": 25
        }
      ]
    },
    {
      "cell_type": "code",
      "source": [
        "print(f\"A random tensor:\\n {a_tensor}\\n\")\n",
        "print(f\"The shape of the `a_tensor`: {a_tensor.shape}\")\n",
        "print(f\"The device: {a_tensor.device}\")"
      ],
      "metadata": {
        "colab": {
          "base_uri": "https://localhost:8080/"
        },
        "id": "1pA42YkpAjKQ",
        "outputId": "71a5fbdc-3343-4f5b-caa9-6daaf84cfad9"
      },
      "execution_count": 26,
      "outputs": [
        {
          "output_type": "stream",
          "name": "stdout",
          "text": [
            "A random tensor:\n",
            " tensor([[0.4412, 0.0404, 0.4903, 0.6450],\n",
            "        [0.6796, 0.0505, 0.7742, 0.9611],\n",
            "        [0.4933, 0.0385, 0.3210, 0.4360]], dtype=torch.float64)\n",
            "\n",
            "The shape of the `a_tensor`: torch.Size([3, 4])\n",
            "The device: cpu\n"
          ]
        }
      ]
    },
    {
      "cell_type": "markdown",
      "source": [
        "## Manipulating Tensors"
      ],
      "metadata": {
        "id": "IxuC4JaLBBRf"
      }
    },
    {
      "cell_type": "code",
      "source": [
        "tensor = torch.tensor([1, 2, 3])\n",
        "tensor"
      ],
      "metadata": {
        "colab": {
          "base_uri": "https://localhost:8080/"
        },
        "id": "aQEl2EXUMG4J",
        "outputId": "0b8486e3-27f0-4ef9-a0f1-649a60ebd5a4"
      },
      "execution_count": 27,
      "outputs": [
        {
          "output_type": "execute_result",
          "data": {
            "text/plain": [
              "tensor([1, 2, 3])"
            ]
          },
          "metadata": {},
          "execution_count": 27
        }
      ]
    },
    {
      "cell_type": "code",
      "source": [
        "tensor.shape"
      ],
      "metadata": {
        "colab": {
          "base_uri": "https://localhost:8080/"
        },
        "id": "aX76G9X8tn7e",
        "outputId": "a0633dd9-890a-49de-ed2b-cd5711719e15"
      },
      "execution_count": 28,
      "outputs": [
        {
          "output_type": "execute_result",
          "data": {
            "text/plain": [
              "torch.Size([3])"
            ]
          },
          "metadata": {},
          "execution_count": 28
        }
      ]
    },
    {
      "cell_type": "code",
      "source": [
        "# Elementwise multiplication\n",
        "tensor * tensor"
      ],
      "metadata": {
        "colab": {
          "base_uri": "https://localhost:8080/"
        },
        "id": "sj8b86OpRNj7",
        "outputId": "b302bf18-58df-4b51-a63b-584926b27510"
      },
      "execution_count": 29,
      "outputs": [
        {
          "output_type": "execute_result",
          "data": {
            "text/plain": [
              "tensor([1, 4, 9])"
            ]
          },
          "metadata": {},
          "execution_count": 29
        }
      ]
    },
    {
      "cell_type": "code",
      "source": [
        "# Matrix multiplication\n",
        "torch.matmul(tensor, tensor)"
      ],
      "metadata": {
        "colab": {
          "base_uri": "https://localhost:8080/"
        },
        "id": "MBYQ1ElkRQ1j",
        "outputId": "e750e4b8-332c-45d6-f7b8-2f21f6c43df9"
      },
      "execution_count": 30,
      "outputs": [
        {
          "output_type": "execute_result",
          "data": {
            "text/plain": [
              "tensor(14)"
            ]
          },
          "metadata": {},
          "execution_count": 30
        }
      ]
    },
    {
      "cell_type": "code",
      "source": [
        "# We want to calculate the time taken by for loop vs the PyTorch `matmul` function\n",
        "# For loob of matrix multiplication\n",
        "%time\n",
        "value = 0\n",
        "for i in range(len(tensor)):\n",
        "  value += tensor[i] * tensor[i]\n",
        "print(value)"
      ],
      "metadata": {
        "colab": {
          "base_uri": "https://localhost:8080/"
        },
        "id": "RvML_4FrRiEJ",
        "outputId": "c22ccfce-0fbb-4a5f-af00-8bd832319d8c"
      },
      "execution_count": 31,
      "outputs": [
        {
          "output_type": "stream",
          "name": "stdout",
          "text": [
            "CPU times: user 4 µs, sys: 0 ns, total: 4 µs\n",
            "Wall time: 7.15 µs\n",
            "tensor(14)\n"
          ]
        }
      ]
    },
    {
      "cell_type": "code",
      "source": [
        "%time\n",
        "torch.matmul(tensor, tensor)"
      ],
      "metadata": {
        "colab": {
          "base_uri": "https://localhost:8080/"
        },
        "id": "F67VXRprSAPW",
        "outputId": "76d89107-d3b3-41c5-d0be-c562b5338962"
      },
      "execution_count": 32,
      "outputs": [
        {
          "output_type": "stream",
          "name": "stdout",
          "text": [
            "CPU times: user 3 µs, sys: 1 µs, total: 4 µs\n",
            "Wall time: 6.44 µs\n"
          ]
        },
        {
          "output_type": "execute_result",
          "data": {
            "text/plain": [
              "tensor(14)"
            ]
          },
          "metadata": {},
          "execution_count": 32
        }
      ]
    },
    {
      "cell_type": "markdown",
      "source": [
        "* Pytorch use someting called vectorization to crush the numbers, and it's faster than the for loob. The difference of time going to be obvious with larg tensors"
      ],
      "metadata": {
        "id": "9TAk0ruESX9F"
      }
    },
    {
      "cell_type": "markdown",
      "source": [
        "## Tensor aggregation"
      ],
      "metadata": {
        "id": "JAyWyjhQSOfN"
      }
    },
    {
      "cell_type": "code",
      "source": [
        "tensor = torch.arange(start=1, end=100, step=10)\n",
        "tensor"
      ],
      "metadata": {
        "colab": {
          "base_uri": "https://localhost:8080/"
        },
        "id": "KKnpTtb1_aqZ",
        "outputId": "ff7d016c-1780-4720-97a5-12e375f58a25"
      },
      "execution_count": 33,
      "outputs": [
        {
          "output_type": "execute_result",
          "data": {
            "text/plain": [
              "tensor([ 1, 11, 21, 31, 41, 51, 61, 71, 81, 91])"
            ]
          },
          "metadata": {},
          "execution_count": 33
        }
      ]
    },
    {
      "cell_type": "code",
      "source": [
        "tensor.min()"
      ],
      "metadata": {
        "colab": {
          "base_uri": "https://localhost:8080/"
        },
        "id": "Dw1BHL0I_kuG",
        "outputId": "e92151c8-017f-4af6-b0cd-3df32c5da3be"
      },
      "execution_count": 34,
      "outputs": [
        {
          "output_type": "execute_result",
          "data": {
            "text/plain": [
              "tensor(1)"
            ]
          },
          "metadata": {},
          "execution_count": 34
        }
      ]
    },
    {
      "cell_type": "code",
      "source": [
        "tensor.max()"
      ],
      "metadata": {
        "colab": {
          "base_uri": "https://localhost:8080/"
        },
        "id": "B1MI1nKw_oll",
        "outputId": "299b1d19-c260-4caf-ce19-016e2c8b54f1"
      },
      "execution_count": 35,
      "outputs": [
        {
          "output_type": "execute_result",
          "data": {
            "text/plain": [
              "tensor(91)"
            ]
          },
          "metadata": {},
          "execution_count": 35
        }
      ]
    },
    {
      "cell_type": "code",
      "source": [
        "tensor.sum()"
      ],
      "metadata": {
        "colab": {
          "base_uri": "https://localhost:8080/"
        },
        "id": "LlVxs7nh_qPV",
        "outputId": "f3324735-6251-4ee8-de21-4d1787ee334f"
      },
      "execution_count": 36,
      "outputs": [
        {
          "output_type": "execute_result",
          "data": {
            "text/plain": [
              "tensor(460)"
            ]
          },
          "metadata": {},
          "execution_count": 36
        }
      ]
    },
    {
      "cell_type": "code",
      "source": [
        "tensor.type(torch.float32).mean()   # For the mean, the tensor should be of a floating-point data type"
      ],
      "metadata": {
        "colab": {
          "base_uri": "https://localhost:8080/"
        },
        "id": "OKz-w6mA_skw",
        "outputId": "42cc725b-3f3b-4a9e-cd73-c7701c393b3d"
      },
      "execution_count": 37,
      "outputs": [
        {
          "output_type": "execute_result",
          "data": {
            "text/plain": [
              "tensor(46.)"
            ]
          },
          "metadata": {},
          "execution_count": 37
        }
      ]
    },
    {
      "cell_type": "code",
      "source": [
        "print(f\"The min value in the tensor is: {torch.min(tensor)} \")\n",
        "print(f\"The max value in the tensor is: {torch.max(tensor)} \")\n",
        "print(f\"The sum of tensor elements is: {torch.sum(tensor)}\" )\n",
        "print(f\"The mean of the elements in the tensor is: {torch.mean(tensor, dtype=torch.float32)}\")"
      ],
      "metadata": {
        "colab": {
          "base_uri": "https://localhost:8080/"
        },
        "id": "XtothKZl_v2I",
        "outputId": "8af16e79-58b2-45d6-9b6e-d7c8cbef4030"
      },
      "execution_count": 38,
      "outputs": [
        {
          "output_type": "stream",
          "name": "stdout",
          "text": [
            "The min value in the tensor is: 1 \n",
            "The max value in the tensor is: 91 \n",
            "The sum of tensor elements is: 460\n",
            "The mean of the elements in the tensor is: 46.0\n"
          ]
        }
      ]
    },
    {
      "cell_type": "code",
      "source": [
        "# The argmax function returns the index (position) of the maximum value.\n",
        "tensor.argmax()"
      ],
      "metadata": {
        "colab": {
          "base_uri": "https://localhost:8080/"
        },
        "id": "l0Sv7DF_AJwi",
        "outputId": "ad90ff7f-b2e4-4fe6-d502-d88bce9f8254"
      },
      "execution_count": 39,
      "outputs": [
        {
          "output_type": "execute_result",
          "data": {
            "text/plain": [
              "tensor(9)"
            ]
          },
          "metadata": {},
          "execution_count": 39
        }
      ]
    },
    {
      "cell_type": "code",
      "source": [
        "# # The argmax function returns the index (position) of the minimum value.\n",
        "tensor.argmin()"
      ],
      "metadata": {
        "colab": {
          "base_uri": "https://localhost:8080/"
        },
        "id": "XWhyotO9BWRp",
        "outputId": "e60b0eb2-456b-4216-9abc-afdf04e2fcb5"
      },
      "execution_count": 40,
      "outputs": [
        {
          "output_type": "execute_result",
          "data": {
            "text/plain": [
              "tensor(0)"
            ]
          },
          "metadata": {},
          "execution_count": 40
        }
      ]
    },
    {
      "cell_type": "markdown",
      "source": [
        "## Reshaping, stacking, squeezing and unsqueezing"
      ],
      "metadata": {
        "id": "0wB8wz8uBcvM"
      }
    },
    {
      "cell_type": "markdown",
      "source": [
        "### Reshaping"
      ],
      "metadata": {
        "id": "JAtcfUWKMXOz"
      }
    },
    {
      "cell_type": "code",
      "source": [
        "x = torch.arange(1., 10.)\n",
        "x, x.shape"
      ],
      "metadata": {
        "id": "Q3Nmhqyfp_qp",
        "colab": {
          "base_uri": "https://localhost:8080/"
        },
        "outputId": "0b0204ce-b6fd-43ac-9726-60e47e71bef3"
      },
      "execution_count": 41,
      "outputs": [
        {
          "output_type": "execute_result",
          "data": {
            "text/plain": [
              "(tensor([1., 2., 3., 4., 5., 6., 7., 8., 9.]), torch.Size([9]))"
            ]
          },
          "metadata": {},
          "execution_count": 41
        }
      ]
    },
    {
      "cell_type": "code",
      "source": [
        "r = x.reshape(9, 1) # 9 rows with 1 column\n",
        "r"
      ],
      "metadata": {
        "colab": {
          "base_uri": "https://localhost:8080/"
        },
        "id": "B579WhfE95lV",
        "outputId": "1b2cea4a-99a5-4969-8138-1e08a65ebbd9"
      },
      "execution_count": 42,
      "outputs": [
        {
          "output_type": "execute_result",
          "data": {
            "text/plain": [
              "tensor([[1.],\n",
              "        [2.],\n",
              "        [3.],\n",
              "        [4.],\n",
              "        [5.],\n",
              "        [6.],\n",
              "        [7.],\n",
              "        [8.],\n",
              "        [9.]])"
            ]
          },
          "metadata": {},
          "execution_count": 42
        }
      ]
    },
    {
      "cell_type": "code",
      "source": [
        "x    # We notice that the original value didn't change because we declared a new variable `r`"
      ],
      "metadata": {
        "colab": {
          "base_uri": "https://localhost:8080/"
        },
        "id": "ZLXn8zw3Pbmr",
        "outputId": "4dca9f83-60a6-4d78-d5e6-8537e4140734"
      },
      "execution_count": 43,
      "outputs": [
        {
          "output_type": "execute_result",
          "data": {
            "text/plain": [
              "tensor([1., 2., 3., 4., 5., 6., 7., 8., 9.])"
            ]
          },
          "metadata": {},
          "execution_count": 43
        }
      ]
    },
    {
      "cell_type": "markdown",
      "source": [
        "### View"
      ],
      "metadata": {
        "id": "FpG4xAw1-C3j"
      }
    },
    {
      "cell_type": "code",
      "source": [
        "z = x.view(9, 1)\n",
        "z"
      ],
      "metadata": {
        "colab": {
          "base_uri": "https://localhost:8080/"
        },
        "id": "0TTs4_1PM2ny",
        "outputId": "5949c65a-383e-4ea3-afb6-d2cb82f9e03f"
      },
      "execution_count": 44,
      "outputs": [
        {
          "output_type": "execute_result",
          "data": {
            "text/plain": [
              "tensor([[1.],\n",
              "        [2.],\n",
              "        [3.],\n",
              "        [4.],\n",
              "        [5.],\n",
              "        [6.],\n",
              "        [7.],\n",
              "        [8.],\n",
              "        [9.]])"
            ]
          },
          "metadata": {},
          "execution_count": 44
        }
      ]
    },
    {
      "cell_type": "code",
      "source": [
        "x"
      ],
      "metadata": {
        "colab": {
          "base_uri": "https://localhost:8080/"
        },
        "id": "Q82d7DNxRIAv",
        "outputId": "06d5d255-fe83-4eaf-a031-2a961ef1f8a2"
      },
      "execution_count": 45,
      "outputs": [
        {
          "output_type": "execute_result",
          "data": {
            "text/plain": [
              "tensor([1., 2., 3., 4., 5., 6., 7., 8., 9.])"
            ]
          },
          "metadata": {},
          "execution_count": 45
        }
      ]
    },
    {
      "cell_type": "code",
      "source": [
        "# When we change the value of one of the elements in `z` it's going to be change on `x`, because thay share the same memory\n",
        "z[0, 0] = 4\n",
        "z, x"
      ],
      "metadata": {
        "colab": {
          "base_uri": "https://localhost:8080/"
        },
        "id": "Q3g3hSnONAGH",
        "outputId": "949caf6e-2746-4eee-dd65-619a0c56f1ec"
      },
      "execution_count": 46,
      "outputs": [
        {
          "output_type": "execute_result",
          "data": {
            "text/plain": [
              "(tensor([[4.],\n",
              "         [2.],\n",
              "         [3.],\n",
              "         [4.],\n",
              "         [5.],\n",
              "         [6.],\n",
              "         [7.],\n",
              "         [8.],\n",
              "         [9.]]),\n",
              " tensor([4., 2., 3., 4., 5., 6., 7., 8., 9.]))"
            ]
          },
          "metadata": {},
          "execution_count": 46
        }
      ]
    },
    {
      "cell_type": "markdown",
      "source": [
        "### Stacking"
      ],
      "metadata": {
        "id": "x-H3ZEhzN2VM"
      }
    },
    {
      "cell_type": "code",
      "source": [
        "# Concatenate many tensors in one\n",
        "x_stacked = torch.stack([x,x,x,x], dim=0) # dim zero indicates the rows, and dim one refers to the columns\n",
        "x_stacked"
      ],
      "metadata": {
        "colab": {
          "base_uri": "https://localhost:8080/"
        },
        "id": "CHbBn93IOKvN",
        "outputId": "7e8a5a97-6caa-48cb-8266-a9a6da58655d"
      },
      "execution_count": 47,
      "outputs": [
        {
          "output_type": "execute_result",
          "data": {
            "text/plain": [
              "tensor([[4., 2., 3., 4., 5., 6., 7., 8., 9.],\n",
              "        [4., 2., 3., 4., 5., 6., 7., 8., 9.],\n",
              "        [4., 2., 3., 4., 5., 6., 7., 8., 9.],\n",
              "        [4., 2., 3., 4., 5., 6., 7., 8., 9.]])"
            ]
          },
          "metadata": {},
          "execution_count": 47
        }
      ]
    },
    {
      "cell_type": "code",
      "source": [
        "x_stacked = torch.stack([x,x,x,x], dim=1)\n",
        "x_stacked"
      ],
      "metadata": {
        "colab": {
          "base_uri": "https://localhost:8080/"
        },
        "id": "JFjdabkhzEq9",
        "outputId": "8a533ab8-bf3e-469d-db08-fd90d57ac520"
      },
      "execution_count": 48,
      "outputs": [
        {
          "output_type": "execute_result",
          "data": {
            "text/plain": [
              "tensor([[4., 4., 4., 4.],\n",
              "        [2., 2., 2., 2.],\n",
              "        [3., 3., 3., 3.],\n",
              "        [4., 4., 4., 4.],\n",
              "        [5., 5., 5., 5.],\n",
              "        [6., 6., 6., 6.],\n",
              "        [7., 7., 7., 7.],\n",
              "        [8., 8., 8., 8.],\n",
              "        [9., 9., 9., 9.]])"
            ]
          },
          "metadata": {},
          "execution_count": 48
        }
      ]
    },
    {
      "cell_type": "markdown",
      "source": [
        "### Permute\n",
        "Permuting to transform the order of tensor data dimensions"
      ],
      "metadata": {
        "id": "wdVdldtdPL5E"
      }
    },
    {
      "cell_type": "code",
      "source": [
        "x_image = torch.rand((224,224,3))  # Creating random tensor of image\n",
        "x_image.shape"
      ],
      "metadata": {
        "colab": {
          "base_uri": "https://localhost:8080/"
        },
        "id": "U6LVzzWie7Bb",
        "outputId": "db5cd54f-2a56-48fc-c04e-1f0a1730beb0"
      },
      "execution_count": 49,
      "outputs": [
        {
          "output_type": "execute_result",
          "data": {
            "text/plain": [
              "torch.Size([224, 224, 3])"
            ]
          },
          "metadata": {},
          "execution_count": 49
        }
      ]
    },
    {
      "cell_type": "code",
      "source": [
        "x_premute = x_image.permute(2, 0, 1)\n",
        "x_premute.shape"
      ],
      "metadata": {
        "colab": {
          "base_uri": "https://localhost:8080/"
        },
        "id": "0hhb9YoqfHpg",
        "outputId": "f27fcf44-16e7-47bc-cc76-187f0ad0ea80"
      },
      "execution_count": 50,
      "outputs": [
        {
          "output_type": "execute_result",
          "data": {
            "text/plain": [
              "torch.Size([3, 224, 224])"
            ]
          },
          "metadata": {},
          "execution_count": 50
        }
      ]
    },
    {
      "cell_type": "code",
      "source": [
        "x_image[0, 0, 0] = 3.43  # Changing the first element value, will change it in `x_premute` because thay stord in the same location\n",
        "x_image"
      ],
      "metadata": {
        "colab": {
          "base_uri": "https://localhost:8080/"
        },
        "id": "MAGXU76Dfr4F",
        "outputId": "74d01730-704b-43e7-fdf6-ec20a8594c50"
      },
      "execution_count": 51,
      "outputs": [
        {
          "output_type": "execute_result",
          "data": {
            "text/plain": [
              "tensor([[[3.4300, 0.0882, 0.2255],\n",
              "         [0.3255, 0.8107, 0.2344],\n",
              "         [0.7723, 0.9704, 0.1113],\n",
              "         ...,\n",
              "         [0.8257, 0.7763, 0.6141],\n",
              "         [0.1912, 0.9139, 0.3739],\n",
              "         [0.5168, 0.8309, 0.6403]],\n",
              "\n",
              "        [[0.6494, 0.5264, 0.6334],\n",
              "         [0.3606, 0.8300, 0.8053],\n",
              "         [0.5384, 0.1552, 0.3880],\n",
              "         ...,\n",
              "         [0.8043, 0.5301, 0.1902],\n",
              "         [0.8206, 0.0220, 0.7343],\n",
              "         [0.0128, 0.1348, 0.3173]],\n",
              "\n",
              "        [[0.4708, 0.4101, 0.0308],\n",
              "         [0.6819, 0.2751, 0.6277],\n",
              "         [0.0536, 0.3265, 0.9830],\n",
              "         ...,\n",
              "         [0.6527, 0.6294, 0.2589],\n",
              "         [0.6363, 0.6140, 0.3917],\n",
              "         [0.3589, 0.8878, 0.8392]],\n",
              "\n",
              "        ...,\n",
              "\n",
              "        [[0.7437, 0.4891, 0.1765],\n",
              "         [0.1791, 0.6476, 0.0858],\n",
              "         [0.0704, 0.5483, 0.9536],\n",
              "         ...,\n",
              "         [0.1935, 0.7502, 0.3252],\n",
              "         [0.4331, 0.4798, 0.1094],\n",
              "         [0.9134, 0.1990, 0.9832]],\n",
              "\n",
              "        [[0.6552, 0.4452, 0.9343],\n",
              "         [0.2703, 0.8055, 0.9579],\n",
              "         [0.3954, 0.5206, 0.5731],\n",
              "         ...,\n",
              "         [0.0337, 0.9009, 0.5114],\n",
              "         [0.6938, 0.6737, 0.2631],\n",
              "         [0.2753, 0.7556, 0.5399]],\n",
              "\n",
              "        [[0.8563, 0.3229, 0.0140],\n",
              "         [0.2219, 0.1058, 0.1673],\n",
              "         [0.2627, 0.9296, 0.9357],\n",
              "         ...,\n",
              "         [0.0265, 0.1963, 0.4294],\n",
              "         [0.4774, 0.1827, 0.3260],\n",
              "         [0.3439, 0.2861, 0.8893]]])"
            ]
          },
          "metadata": {},
          "execution_count": 51
        }
      ]
    },
    {
      "cell_type": "code",
      "source": [
        "x_premute[0, 0, 0]"
      ],
      "metadata": {
        "colab": {
          "base_uri": "https://localhost:8080/"
        },
        "id": "kd9eoE6xgLn5",
        "outputId": "a008b6ab-9623-4a3c-a3ca-39b3869a0acf"
      },
      "execution_count": 52,
      "outputs": [
        {
          "output_type": "execute_result",
          "data": {
            "text/plain": [
              "tensor(3.4300)"
            ]
          },
          "metadata": {},
          "execution_count": 52
        }
      ]
    },
    {
      "cell_type": "markdown",
      "source": [
        "### Indexing"
      ],
      "metadata": {
        "id": "4i_Yu2UjgPLM"
      }
    },
    {
      "cell_type": "code",
      "source": [
        "x = torch.arange(1, 13).reshape(1, 4, 3)\n",
        "x.shape, x"
      ],
      "metadata": {
        "colab": {
          "base_uri": "https://localhost:8080/"
        },
        "id": "o2manHP7a3mn",
        "outputId": "c28f9807-2821-43c9-caa8-74ef1b94fcd3"
      },
      "execution_count": 53,
      "outputs": [
        {
          "output_type": "execute_result",
          "data": {
            "text/plain": [
              "(torch.Size([1, 4, 3]),\n",
              " tensor([[[ 1,  2,  3],\n",
              "          [ 4,  5,  6],\n",
              "          [ 7,  8,  9],\n",
              "          [10, 11, 12]]]))"
            ]
          },
          "metadata": {},
          "execution_count": 53
        }
      ]
    },
    {
      "cell_type": "code",
      "source": [
        "x[:, 0]"
      ],
      "metadata": {
        "colab": {
          "base_uri": "https://localhost:8080/"
        },
        "id": "ZwqKS6supMrQ",
        "outputId": "0df63070-4c32-4b9c-a4dc-b80127f7f86b"
      },
      "execution_count": 54,
      "outputs": [
        {
          "output_type": "execute_result",
          "data": {
            "text/plain": [
              "tensor([[1, 2, 3]])"
            ]
          },
          "metadata": {},
          "execution_count": 54
        }
      ]
    },
    {
      "cell_type": "code",
      "source": [
        "x[:, :, 2]"
      ],
      "metadata": {
        "colab": {
          "base_uri": "https://localhost:8080/"
        },
        "id": "d6SY6KkPpYCd",
        "outputId": "27763c48-cdb2-4507-d70c-42de9cbafbb3"
      },
      "execution_count": 55,
      "outputs": [
        {
          "output_type": "execute_result",
          "data": {
            "text/plain": [
              "tensor([[ 3,  6,  9, 12]])"
            ]
          },
          "metadata": {},
          "execution_count": 55
        }
      ]
    },
    {
      "cell_type": "markdown",
      "source": [
        "## PyTorch and Numpy"
      ],
      "metadata": {
        "id": "2OnhJV_Jp0zF"
      }
    },
    {
      "cell_type": "code",
      "source": [
        "import numpy as np\n",
        "import torch\n",
        "\n",
        "# Numpy to tensor\n",
        "array = np.arange(1.0, 10.0).astype(np.float32)\n",
        "tensor = torch.from_numpy(array)\n",
        "array, tensor"
      ],
      "metadata": {
        "colab": {
          "base_uri": "https://localhost:8080/"
        },
        "id": "qgn2Jz3Dr3V8",
        "outputId": "d3446952-dd91-42cf-ecb0-80fc7c7df5ea"
      },
      "execution_count": 56,
      "outputs": [
        {
          "output_type": "execute_result",
          "data": {
            "text/plain": [
              "(array([1., 2., 3., 4., 5., 6., 7., 8., 9.], dtype=float32),\n",
              " tensor([1., 2., 3., 4., 5., 6., 7., 8., 9.]))"
            ]
          },
          "metadata": {},
          "execution_count": 56
        }
      ]
    },
    {
      "cell_type": "code",
      "source": [
        "tensor.dtype"
      ],
      "metadata": {
        "colab": {
          "base_uri": "https://localhost:8080/"
        },
        "id": "4XK-Ki6xzSVu",
        "outputId": "c3ece56a-e933-44cf-b7b1-aa64bccad210"
      },
      "execution_count": 57,
      "outputs": [
        {
          "output_type": "execute_result",
          "data": {
            "text/plain": [
              "torch.float32"
            ]
          },
          "metadata": {},
          "execution_count": 57
        }
      ]
    },
    {
      "cell_type": "code",
      "source": [
        "# The new tensor dosen't change if we changed the array\n",
        "array = array + 10\n",
        "array, tensor"
      ],
      "metadata": {
        "colab": {
          "base_uri": "https://localhost:8080/"
        },
        "id": "wAEppmkUzZAe",
        "outputId": "98491301-0d61-4e81-fd0e-6a3cda02896f"
      },
      "execution_count": 58,
      "outputs": [
        {
          "output_type": "execute_result",
          "data": {
            "text/plain": [
              "(array([11., 12., 13., 14., 15., 16., 17., 18., 19.], dtype=float32),\n",
              " tensor([1., 2., 3., 4., 5., 6., 7., 8., 9.]))"
            ]
          },
          "metadata": {},
          "execution_count": 58
        }
      ]
    },
    {
      "cell_type": "code",
      "source": [
        "# Tensor to Numpy\n",
        "tesnor = torch.ones(7,)\n",
        "array = tensor.numpy()\n",
        "tensor, array"
      ],
      "metadata": {
        "colab": {
          "base_uri": "https://localhost:8080/"
        },
        "id": "l8_WZUj009-H",
        "outputId": "18f426e2-36b5-4ae2-e47a-56e888dad186"
      },
      "execution_count": 59,
      "outputs": [
        {
          "output_type": "execute_result",
          "data": {
            "text/plain": [
              "(tensor([1., 2., 3., 4., 5., 6., 7., 8., 9.]),\n",
              " array([1., 2., 3., 4., 5., 6., 7., 8., 9.], dtype=float32))"
            ]
          },
          "metadata": {},
          "execution_count": 59
        }
      ]
    },
    {
      "cell_type": "markdown",
      "source": [
        "## Reproducability (take random out of random)\n",
        "\n",
        "**random seed**"
      ],
      "metadata": {
        "id": "vGFZL9SI10up"
      }
    },
    {
      "cell_type": "code",
      "source": [
        "torch.manual_seed(42)\n",
        "torch.rand(3, 3)"
      ],
      "metadata": {
        "colab": {
          "base_uri": "https://localhost:8080/"
        },
        "id": "-ExcTfr05Nfk",
        "outputId": "635b2746-6e98-439c-e550-407957578de9"
      },
      "execution_count": 60,
      "outputs": [
        {
          "output_type": "execute_result",
          "data": {
            "text/plain": [
              "tensor([[0.8823, 0.9150, 0.3829],\n",
              "        [0.9593, 0.3904, 0.6009],\n",
              "        [0.2566, 0.7936, 0.9408]])"
            ]
          },
          "metadata": {},
          "execution_count": 60
        }
      ]
    },
    {
      "cell_type": "markdown",
      "source": [
        "## GPU"
      ],
      "metadata": {
        "id": "p0xV5vLj6nvp"
      }
    },
    {
      "cell_type": "code",
      "source": [
        "!nvidia-smi -L"
      ],
      "metadata": {
        "colab": {
          "base_uri": "https://localhost:8080/"
        },
        "id": "MBTTw31A-p87",
        "outputId": "f94e8031-4f8f-4363-b21e-80e421936cdd"
      },
      "execution_count": 61,
      "outputs": [
        {
          "output_type": "stream",
          "name": "stdout",
          "text": [
            "GPU 0: Tesla T4 (UUID: GPU-619c0fd6-d9f4-6362-4d67-37d6c1941e7a)\n"
          ]
        }
      ]
    },
    {
      "cell_type": "code",
      "source": [
        "# Check the GPU access with pytorch\n",
        "import torch\n",
        "torch.cuda.is_available()   #cuda is nvidia programming interface thats allow us to use GPUs for numircal computing"
      ],
      "metadata": {
        "colab": {
          "base_uri": "https://localhost:8080/"
        },
        "id": "qpYqb6El-vi1",
        "outputId": "42dec274-ad84-45ee-8ae4-e59be8391660"
      },
      "execution_count": 62,
      "outputs": [
        {
          "output_type": "execute_result",
          "data": {
            "text/plain": [
              "True"
            ]
          },
          "metadata": {},
          "execution_count": 62
        }
      ]
    },
    {
      "cell_type": "code",
      "source": [
        "# Setup the device we will work on in PyTorch (device agnostice code)\n",
        "device = 'cuda' if torch.cuda.is_available() else 'cpu'\n",
        "device"
      ],
      "metadata": {
        "colab": {
          "base_uri": "https://localhost:8080/",
          "height": 35
        },
        "id": "Rk9ePlP3AHNm",
        "outputId": "28a74ed0-6147-4e0e-92a2-b62554a0921e"
      },
      "execution_count": 63,
      "outputs": [
        {
          "output_type": "execute_result",
          "data": {
            "text/plain": [
              "'cuda'"
            ],
            "application/vnd.google.colaboratory.intrinsic+json": {
              "type": "string"
            }
          },
          "metadata": {},
          "execution_count": 63
        }
      ]
    },
    {
      "cell_type": "code",
      "source": [
        "# Number of GPUs\n",
        "torch.cuda.device_count()"
      ],
      "metadata": {
        "colab": {
          "base_uri": "https://localhost:8080/"
        },
        "id": "SHaEqb76As0P",
        "outputId": "ed6f9546-cd0d-45a8-c63a-abe89d249941"
      },
      "execution_count": 64,
      "outputs": [
        {
          "output_type": "execute_result",
          "data": {
            "text/plain": [
              "1"
            ]
          },
          "metadata": {},
          "execution_count": 64
        }
      ]
    },
    {
      "cell_type": "markdown",
      "source": [
        "## Device"
      ],
      "metadata": {
        "id": "BHRDCjqGA4UW"
      }
    },
    {
      "cell_type": "code",
      "source": [
        "tensor1 = torch.tensor([1, 2, 3])  #the device in defulte is a cpu\n",
        "tensor1, tensor1.device"
      ],
      "metadata": {
        "colab": {
          "base_uri": "https://localhost:8080/"
        },
        "id": "Bvr44aFJEijF",
        "outputId": "5417ea1a-fc23-4e32-95c1-6fbcd539a916"
      },
      "execution_count": 65,
      "outputs": [
        {
          "output_type": "execute_result",
          "data": {
            "text/plain": [
              "(tensor([1, 2, 3]), device(type='cpu'))"
            ]
          },
          "metadata": {},
          "execution_count": 65
        }
      ]
    },
    {
      "cell_type": "code",
      "source": [
        "# copy it to gpu\n",
        "tensor2 = tensor1.to(device)\n",
        "tensor2, tensor2.device"
      ],
      "metadata": {
        "colab": {
          "base_uri": "https://localhost:8080/"
        },
        "id": "tO4-z_UzE_Hu",
        "outputId": "159c474f-be63-4a8b-ebe0-6439e328e5b6"
      },
      "execution_count": 66,
      "outputs": [
        {
          "output_type": "execute_result",
          "data": {
            "text/plain": [
              "(tensor([1, 2, 3], device='cuda:0'), device(type='cuda', index=0))"
            ]
          },
          "metadata": {},
          "execution_count": 66
        }
      ]
    },
    {
      "cell_type": "code",
      "source": [
        "# copy it back to cpu\n",
        "tensor3 = tensor2.cpu()\n",
        "tensor3, tensor3.device"
      ],
      "metadata": {
        "colab": {
          "base_uri": "https://localhost:8080/"
        },
        "id": "4Ne40Uj-FGcl",
        "outputId": "a812ba81-df7a-43ed-b52c-cd985285c0d7"
      },
      "execution_count": 67,
      "outputs": [
        {
          "output_type": "execute_result",
          "data": {
            "text/plain": [
              "(tensor([1, 2, 3]), device(type='cpu'))"
            ]
          },
          "metadata": {},
          "execution_count": 67
        }
      ]
    },
    {
      "cell_type": "code",
      "source": [],
      "metadata": {
        "id": "igsoj86JFudr"
      },
      "execution_count": null,
      "outputs": []
    }
  ]
}