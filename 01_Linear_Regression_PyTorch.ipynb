{
  "nbformat": 4,
  "nbformat_minor": 0,
  "metadata": {
    "colab": {
      "provenance": []
    },
    "kernelspec": {
      "name": "python3",
      "display_name": "Python 3"
    },
    "language_info": {
      "name": "python"
    }
  },
  "cells": [
    {
      "cell_type": "code",
      "source": [
        "# Recap some stuff\n",
        "## Dectionary\n",
        "dec = {1: \"Moayyed\",\n",
        "       2: \"Astrea\",\n",
        "       3: \"Baba\",\n",
        "       4: \"Mama\",\n",
        "       5: \"Hino\"}\n",
        "print(dec[2])\n",
        "\n",
        "## Python array(list)\n",
        "cars = [\"Ford\", \"Volvo\", \"BMW\"]\n",
        "print(cars)\n",
        "cars.append(\"Honda\")\n",
        "print(cars)\n",
        "array = [1, 2, 3, 4]\n",
        "print(type(cars), type(array))\n",
        "\n",
        "## Numpy array\n",
        "import numpy as np\n",
        "\n",
        "np_array = np.array([1, 2, 3, 4, 5])\n",
        "np_cars = np.array([\"Ford\", \"Volvo\", \"BMW\"])\n",
        "print(np_array.dtype, np_cars.dtype)"
      ],
      "metadata": {
        "colab": {
          "base_uri": "https://localhost:8080/"
        },
        "id": "dwpnaQeuVV3a",
        "outputId": "b8e9e65c-cebc-481d-fa95-ee7b93807f3a"
      },
      "execution_count": 1,
      "outputs": [
        {
          "output_type": "stream",
          "name": "stdout",
          "text": [
            "Astrea\n",
            "['Ford', 'Volvo', 'BMW']\n",
            "['Ford', 'Volvo', 'BMW', 'Honda']\n",
            "<class 'list'> <class 'list'>\n",
            "int64 <U5\n"
          ]
        }
      ]
    },
    {
      "cell_type": "markdown",
      "source": [
        "# Linear Regression `Y = WX + b`\n",
        "Linear regression is used to predict the value of a variable based on the value of another variable."
      ],
      "metadata": {
        "id": "U-2HfWC8XFzZ"
      }
    },
    {
      "cell_type": "code",
      "source": [
        "import torch\n",
        "from torch import nn\n",
        "import matplotlib.pyplot as plt\n",
        "\n",
        "torch.__version__"
      ],
      "metadata": {
        "colab": {
          "base_uri": "https://localhost:8080/",
          "height": 35
        },
        "id": "HyGf_yHHY3vx",
        "outputId": "fe6cb1d8-3758-4899-e390-6202c320eba5"
      },
      "execution_count": 2,
      "outputs": [
        {
          "output_type": "execute_result",
          "data": {
            "text/plain": [
              "'2.1.0+cu121'"
            ],
            "application/vnd.google.colaboratory.intrinsic+json": {
              "type": "string"
            }
          },
          "metadata": {},
          "execution_count": 2
        }
      ]
    },
    {
      "cell_type": "markdown",
      "source": [
        "## Create Data\n",
        "The dataset used for the linear regression problem is a supervised dataset, consisting of input and output data. We are going to create a linear dataset comprising independent and dependent variables. `X` represents the input data used to train the model, known as the independent variables. `y` is the output variable, and it's the dependent variable because its existence depends on `X`.\n"
      ],
      "metadata": {
        "id": "UV3-ItxVfbfl"
      }
    },
    {
      "cell_type": "code",
      "source": [
        "# Create parameters\n",
        "weight = 0.7\n",
        "bias = 0.3\n",
        "\n",
        "\n",
        "X = torch.arange(0, 1, step=0.02).unsqueeze(dim=1)\n",
        "y = weight * X + bias\n",
        "\n",
        "X[:10], y[:10]"
      ],
      "metadata": {
        "colab": {
          "base_uri": "https://localhost:8080/"
        },
        "id": "_JvsxvG9dHIj",
        "outputId": "d9dd4ce2-6868-4380-f36e-5532af20c0f8"
      },
      "execution_count": 3,
      "outputs": [
        {
          "output_type": "execute_result",
          "data": {
            "text/plain": [
              "(tensor([[0.0000],\n",
              "         [0.0200],\n",
              "         [0.0400],\n",
              "         [0.0600],\n",
              "         [0.0800],\n",
              "         [0.1000],\n",
              "         [0.1200],\n",
              "         [0.1400],\n",
              "         [0.1600],\n",
              "         [0.1800]]),\n",
              " tensor([[0.3000],\n",
              "         [0.3140],\n",
              "         [0.3280],\n",
              "         [0.3420],\n",
              "         [0.3560],\n",
              "         [0.3700],\n",
              "         [0.3840],\n",
              "         [0.3980],\n",
              "         [0.4120],\n",
              "         [0.4260]]))"
            ]
          },
          "metadata": {},
          "execution_count": 3
        }
      ]
    },
    {
      "cell_type": "code",
      "source": [
        "# The number of samples in X and y\n",
        "len(X), len(y)"
      ],
      "metadata": {
        "colab": {
          "base_uri": "https://localhost:8080/"
        },
        "id": "yELA4wgsgToS",
        "outputId": "6b38e62b-9f79-49d8-b08b-b88567a240c4"
      },
      "execution_count": 4,
      "outputs": [
        {
          "output_type": "execute_result",
          "data": {
            "text/plain": [
              "(50, 50)"
            ]
          },
          "metadata": {},
          "execution_count": 4
        }
      ]
    },
    {
      "cell_type": "markdown",
      "source": [
        "## Split the dataset"
      ],
      "metadata": {
        "id": "dDYqnabhghJQ"
      }
    },
    {
      "cell_type": "code",
      "source": [
        "# Split the dataset to training and testing dataset, by determing split size\n",
        "split_size = int(0.8 * len(X))\n",
        "X_train, y_train = X[:split_size], y[:split_size]\n",
        "X_test, y_test = X[split_size:], y[split_size:]\n",
        "\n",
        "len(X_train), len(y_train), len(X_test), len(y_test)"
      ],
      "metadata": {
        "colab": {
          "base_uri": "https://localhost:8080/"
        },
        "id": "QPoPLMTug5Q9",
        "outputId": "9f0a69d5-61c4-436f-d1f1-eeeda6c54903"
      },
      "execution_count": 5,
      "outputs": [
        {
          "output_type": "execute_result",
          "data": {
            "text/plain": [
              "(40, 40, 10, 10)"
            ]
          },
          "metadata": {},
          "execution_count": 5
        }
      ]
    },
    {
      "cell_type": "markdown",
      "source": [
        "## Visualize the Data"
      ],
      "metadata": {
        "id": "unfnVxrdNxEH"
      }
    },
    {
      "cell_type": "code",
      "source": [
        "# Create a function to visulize the data\n",
        "def plot_predictions(training_data=X_train, training_labels=y_train, testing_data=X_test, testing_labels=y_test, prediction=None):\n",
        "  plt.figure(figsize=(10, 7))\n",
        "  plt.scatter(training_data, training_labels, c='b', label=\"Training Data\")  # c for color\n",
        "  plt.scatter(testing_data, testing_labels, c='g', label=\"Testing label\")\n",
        "\n",
        "  if prediction is not None:\n",
        "    # Plot the predictions if they exist\n",
        "    plt.scatter(testing_data, prediction, c=\"r\", s=4, label=\"Predictions\")\n",
        "\n",
        "  plt.legend(prop={\"size\": 10});"
      ],
      "metadata": {
        "id": "KeBMm61kPXo8"
      },
      "execution_count": 6,
      "outputs": []
    },
    {
      "cell_type": "code",
      "source": [
        "plot_predictions(X_train, y_train, X_test, y_test)"
      ],
      "metadata": {
        "colab": {
          "base_uri": "https://localhost:8080/",
          "height": 599
        },
        "id": "ZZXEVhQth_h0",
        "outputId": "f0f621dd-0200-4276-bd1b-82cdb7ec44af"
      },
      "execution_count": 7,
      "outputs": [
        {
          "output_type": "display_data",
          "data": {
            "text/plain": [
              "<Figure size 1000x700 with 1 Axes>"
            ],
            "image/png": "[encoded data removed]"
          },
          "metadata": {}
        }
      ]
    },
    {
      "cell_type": "markdown",
      "source": [
        "## Model"
      ],
      "metadata": {
        "id": "NtAY3Xk-qzts"
      }
    },
    {
      "cell_type": "markdown",
      "source": [
        "### Build the model class\n",
        "We aim to develop a linear regression model and train it using X and y. The process involves feeding the model the input samples (`X`) and allowing it to generate predictions. The model then compares these predictions with the actual values in `y`. During this process, it tunes its parameters (`W` for weights, `b` for bias) and iteratively predicts the inputs again, each time refining its predictions by comparing them with the actual outputs. This process repeats until the model achieves a satisfactory level of accuracy in predicting input values. Once trained, we can test the model on data with a similar pattern and eventually deploy it in a product."
      ],
      "metadata": {
        "id": "7UD7ejKK9t2d"
      }
    },
    {
      "cell_type": "code",
      "source": [
        "from torch import nn\n",
        "class LinearRegresionModel(nn.Module):  # Base class for all neural network modules\n",
        "  def __init__(self):\n",
        "    super().__init__()\n",
        "\n",
        "    self.weights = nn.Parameter(torch.randn(1, requires_grad=True, dtype=torch.float))\n",
        "    self.bias = nn.Parameter(torch.randn(1, requires_grad=True, dtype=torch.float))\n",
        "\n",
        "  def forward(self, x: torch.Tensor) -> torch.Tensor:\n",
        "      return self.weights * x + self.bias   # Linear regresion formula"
      ],
      "metadata": {
        "id": "FrGhH1JjLv0x"
      },
      "execution_count": 8,
      "outputs": []
    },
    {
      "cell_type": "code",
      "source": [
        "torch.manual_seed(42)  # Set the random seed to get the same random number every time\n",
        "\n",
        "# Check the model parameters\n",
        "model_0 = LinearRegresionModel()\n",
        "\n",
        "#check out parameters\n",
        "list(model_0.parameters())"
      ],
      "metadata": {
        "id": "bBTu8yxA22Ux",
        "colab": {
          "base_uri": "https://localhost:8080/"
        },
        "outputId": "8f3c6271-f392-4694-dd73-0be6112f7aff"
      },
      "execution_count": 9,
      "outputs": [
        {
          "output_type": "execute_result",
          "data": {
            "text/plain": [
              "[Parameter containing:\n",
              " tensor([0.3367], requires_grad=True),\n",
              " Parameter containing:\n",
              " tensor([0.1288], requires_grad=True)]"
            ]
          },
          "metadata": {},
          "execution_count": 9
        }
      ]
    },
    {
      "cell_type": "code",
      "source": [
        "# List named parameters\n",
        "model_0.state_dict()"
      ],
      "metadata": {
        "id": "gB5tlZiIM-C0",
        "colab": {
          "base_uri": "https://localhost:8080/"
        },
        "outputId": "859e583b-0322-43a1-cf36-19b9ec7ad197"
      },
      "execution_count": 10,
      "outputs": [
        {
          "output_type": "execute_result",
          "data": {
            "text/plain": [
              "OrderedDict([('weights', tensor([0.3367])), ('bias', tensor([0.1288]))])"
            ]
          },
          "metadata": {},
          "execution_count": 10
        }
      ]
    },
    {
      "cell_type": "code",
      "source": [
        "# Make prediction using the model befors training\n",
        "with torch.inference_mode():   #turns off gradinte traking and make code runs faster\n",
        "  y_preds = model_0(X_test)\n",
        "\n",
        "# # You can also do something similar with torch.no_grad(), however, torch.inference_mode() is preferred\n",
        "# with torch.no_grad():\n",
        "#   y_preds = model_0(X_test)\n",
        "\n",
        "y_preds  # Predicted values"
      ],
      "metadata": {
        "colab": {
          "base_uri": "https://localhost:8080/"
        },
        "id": "waELnsDMcXRU",
        "outputId": "4499e402-7667-4a96-ca87-f8f97a0c45ef"
      },
      "execution_count": 11,
      "outputs": [
        {
          "output_type": "execute_result",
          "data": {
            "text/plain": [
              "tensor([[0.3982],\n",
              "        [0.4049],\n",
              "        [0.4116],\n",
              "        [0.4184],\n",
              "        [0.4251],\n",
              "        [0.4318],\n",
              "        [0.4386],\n",
              "        [0.4453],\n",
              "        [0.4520],\n",
              "        [0.4588]])"
            ]
          },
          "metadata": {},
          "execution_count": 11
        }
      ]
    },
    {
      "cell_type": "code",
      "source": [
        "y_test  # Real values"
      ],
      "metadata": {
        "colab": {
          "base_uri": "https://localhost:8080/"
        },
        "id": "F_4RAamWdTBF",
        "outputId": "8502ffbe-e0b6-4211-97e2-1fb5aba15ae4"
      },
      "execution_count": 12,
      "outputs": [
        {
          "output_type": "execute_result",
          "data": {
            "text/plain": [
              "tensor([[0.8600],\n",
              "        [0.8740],\n",
              "        [0.8880],\n",
              "        [0.9020],\n",
              "        [0.9160],\n",
              "        [0.9300],\n",
              "        [0.9440],\n",
              "        [0.9580],\n",
              "        [0.9720],\n",
              "        [0.9860]])"
            ]
          },
          "metadata": {},
          "execution_count": 12
        }
      ]
    },
    {
      "cell_type": "markdown",
      "source": [
        "We can observe that there is a significant difference between the real and predicted values."
      ],
      "metadata": {
        "id": "XZg9L6oCddei"
      }
    },
    {
      "cell_type": "code",
      "source": [
        "plot_predictions(prediction=y_preds)"
      ],
      "metadata": {
        "colab": {
          "base_uri": "https://localhost:8080/",
          "height": 599
        },
        "id": "LZ1gIenYe36_",
        "outputId": "94261b62-f1c6-4228-b9a8-972c3bdc9f6f"
      },
      "execution_count": 13,
      "outputs": [
        {
          "output_type": "display_data",
          "data": {
            "text/plain": [
              "<Figure size 1000x700 with 1 Axes>"
            ],
            "image/png": "[encoded data removed]"
          },
          "metadata": {}
        }
      ]
    },
    {
      "cell_type": "markdown",
      "source": [
        "The red dots represent the model's predictions before training. As you can see, there is a noticeable difference between them."
      ],
      "metadata": {
        "id": "ts0YimDOd9ut"
      }
    },
    {
      "cell_type": "markdown",
      "source": [
        "### Create a Training loop"
      ],
      "metadata": {
        "id": "gDJEl9b4-DpF"
      }
    },
    {
      "cell_type": "code",
      "source": [
        "# Setup the loss function (MAE) to compute the difference between the predicted and the actual values.\n",
        "loss_fn = nn.L1Loss()\n",
        "\n",
        "# Setup the optimizer to optimize the value of the model parameters\n",
        "optimizer = torch.optim.SGD(model_0.parameters(),\n",
        "                           lr=0.01)"
      ],
      "metadata": {
        "id": "h6uLahRofivd"
      },
      "execution_count": 14,
      "outputs": []
    },
    {
      "cell_type": "code",
      "source": [
        "# An epoch is one loop through the data\n",
        "epochs = 200\n",
        "\n",
        "for epoch in range(epochs):\n",
        "  # Set the model training mode\n",
        "  model_0.train()   # Train mode in pytorch sets all that requiers gradients to require gradients\n",
        "\n",
        "  # Forward pass\n",
        "  y_preds = model_0(X_train)\n",
        "\n",
        "  # Loss\n",
        "  loss = loss_fn(y_preds, y_train)\n",
        "\n",
        "  # Optimizer zero grad\n",
        "  optimizer.zero_grad()\n",
        "\n",
        "  # Berform backpropagation on the loss\n",
        "  loss.backward()\n",
        "\n",
        "  # Optimizing\n",
        "  optimizer.step()\n",
        "\n",
        "  model_0.eval()   # Turn off the differnet settings in the model not needed in evaluation like gradient tracking, dropout and batch norm layer\n",
        "  with torch.inference_mode():\n",
        "    model_0_preds = model_0(X_test)\n",
        "    test_loss = loss_fn(model_0_preds, X_test)\n",
        "\n",
        "  if epoch % 20 == 0:\n",
        "    print(f\"Epoch: {epoch} | Training Loss: {loss} | Testing Loss {test_loss}\")\n",
        "    print(f\"   ...     {model_0.state_dict()}\" )"
      ],
      "metadata": {
        "id": "CjVm-9QWvXU7",
        "colab": {
          "base_uri": "https://localhost:8080/"
        },
        "outputId": "70d7aeda-da35-45fc-c535-f1a3618f714e"
      },
      "execution_count": 15,
      "outputs": [
        {
          "output_type": "stream",
          "name": "stdout",
          "text": [
            "Epoch: 0 | Training Loss: 0.31288138031959534 | Testing Loss 0.4480651915073395\n",
            "   ...     OrderedDict([('weights', tensor([0.3406])), ('bias', tensor([0.1388]))])\n",
            "Epoch: 20 | Training Loss: 0.08908725529909134 | Testing Loss 0.18429657816886902\n",
            "   ...     OrderedDict([('weights', tensor([0.4184])), ('bias', tensor([0.3333]))])\n",
            "Epoch: 40 | Training Loss: 0.04543796554207802 | Testing Loss 0.08060953766107559\n",
            "   ...     OrderedDict([('weights', tensor([0.4748])), ('bias', tensor([0.3868]))])\n",
            "Epoch: 60 | Training Loss: 0.03818932920694351 | Testing Loss 0.05586633086204529\n",
            "   ...     OrderedDict([('weights', tensor([0.5116])), ('bias', tensor([0.3788]))])\n",
            "Epoch: 80 | Training Loss: 0.03132382780313492 | Testing Loss 0.03963042423129082\n",
            "   ...     OrderedDict([('weights', tensor([0.5459])), ('bias', tensor([0.3648]))])\n",
            "Epoch: 100 | Training Loss: 0.024458957836031914 | Testing Loss 0.027516866102814674\n",
            "   ...     OrderedDict([('weights', tensor([0.5800])), ('bias', tensor([0.3503]))])\n",
            "Epoch: 120 | Training Loss: 0.01758546568453312 | Testing Loss 0.020042216405272484\n",
            "   ...     OrderedDict([('weights', tensor([0.6141])), ('bias', tensor([0.3358]))])\n",
            "Epoch: 140 | Training Loss: 0.010716589167714119 | Testing Loss 0.01866193488240242\n",
            "   ...     OrderedDict([('weights', tensor([0.6485])), ('bias', tensor([0.3218]))])\n",
            "Epoch: 160 | Training Loss: 0.0038517764769494534 | Testing Loss 0.02555248700082302\n",
            "   ...     OrderedDict([('weights', tensor([0.6826])), ('bias', tensor([0.3073]))])\n",
            "Epoch: 180 | Training Loss: 0.008932482451200485 | Testing Loss 0.027976905927062035\n",
            "   ...     OrderedDict([('weights', tensor([0.6951])), ('bias', tensor([0.2993]))])\n"
          ]
        }
      ]
    },
    {
      "cell_type": "code",
      "source": [
        "# plot the model prediction next to the true values\n",
        "plot_predictions(prediction=model_0_preds)"
      ],
      "metadata": {
        "colab": {
          "base_uri": "https://localhost:8080/",
          "height": 599
        },
        "id": "n0w43Vs2OCor",
        "outputId": "03c880cc-a63d-4404-97c7-eb9ce3682b30"
      },
      "execution_count": 16,
      "outputs": [
        {
          "output_type": "display_data",
          "data": {
            "text/plain": [
              "<Figure size 1000x700 with 1 Axes>"
            ],
            "image/png": "[encoded data removed]"
          },
          "metadata": {}
        }
      ]
    },
    {
      "cell_type": "markdown",
      "source": [
        "## Save the model\n",
        "\n",
        "`torch.save()`  -> python's pickle format\n",
        "\n",
        "`torch.load()`  -> load saved pytorch model\n",
        "\n",
        "`torch.nn.module.load_state_dict`  ->load model saved state dictionary"
      ],
      "metadata": {
        "id": "kHfbvWouOXBL"
      }
    },
    {
      "cell_type": "code",
      "source": [
        "# Save the model\n",
        "from pathlib import Path\n",
        "\n",
        "# 1. Create a dirctory\n",
        "MODEL_PATH = Path(\"models\")\n",
        "MODEL_PATH.mkdir(parents= True, exist_ok= True)  # exist_ok: it it already exist will not wont throgh us an error\n",
        "\n",
        "# 2. Create a model path\n",
        "MODEL_NAME = \"01_linear_regresion_model_0.pt\"\n",
        "MODEL_SAVE_PATH = MODEL_PATH / MODEL_NAME\n",
        "\n",
        "# 3. Save the model\n",
        "torch.save(model_0.state_dict(),\n",
        "           MODEL_SAVE_PATH)"
      ],
      "metadata": {
        "id": "LsifzHNGrAA1"
      },
      "execution_count": 17,
      "outputs": []
    },
    {
      "cell_type": "markdown",
      "source": [
        "## Load the Model Back"
      ],
      "metadata": {
        "id": "wrbG0SVzwmzo"
      }
    },
    {
      "cell_type": "code",
      "source": [
        "loaded_model_0 = LinearRegresionModel()\n",
        "\n",
        "loaded_model_0.load_state_dict(torch.load(MODEL_SAVE_PATH))"
      ],
      "metadata": {
        "colab": {
          "base_uri": "https://localhost:8080/"
        },
        "id": "kw2bY1SYx8WI",
        "outputId": "7a59be95-0734-4a1f-96ce-c1d62f714b1e"
      },
      "execution_count": 18,
      "outputs": [
        {
          "output_type": "execute_result",
          "data": {
            "text/plain": [
              "<All keys matched successfully>"
            ]
          },
          "metadata": {},
          "execution_count": 18
        }
      ]
    },
    {
      "cell_type": "code",
      "source": [
        "loaded_model_0.eval()\n",
        "with torch.inference_mode():\n",
        "   loaded_model_0_preds= loaded_model_0(X_test)"
      ],
      "metadata": {
        "id": "dmyOhzauzJt1"
      },
      "execution_count": 19,
      "outputs": []
    },
    {
      "cell_type": "code",
      "source": [
        "model_0_preds == loaded_model_0_preds"
      ],
      "metadata": {
        "colab": {
          "base_uri": "https://localhost:8080/"
        },
        "id": "35QswPqTzdHR",
        "outputId": "15f1bc4f-1311-4593-ebd7-44a5afd22830"
      },
      "execution_count": 20,
      "outputs": [
        {
          "output_type": "execute_result",
          "data": {
            "text/plain": [
              "tensor([[True],\n",
              "        [True],\n",
              "        [True],\n",
              "        [True],\n",
              "        [True],\n",
              "        [True],\n",
              "        [True],\n",
              "        [True],\n",
              "        [True],\n",
              "        [True]])"
            ]
          },
          "metadata": {},
          "execution_count": 20
        }
      ]
    },
    {
      "cell_type": "markdown",
      "source": [
        "# Put Things Together"
      ],
      "metadata": {
        "id": "WXqyjewvzls1"
      }
    },
    {
      "cell_type": "code",
      "source": [
        "import torch\n",
        "from torch import nn\n",
        "import matplotlib.pyplot as plt"
      ],
      "metadata": {
        "id": "ONVlSRSyvmUm"
      },
      "execution_count": 21,
      "outputs": []
    },
    {
      "cell_type": "code",
      "source": [
        "# Create device agnostic code\n",
        "device = 'cuda' if torch.cuda.is_available() else 'cpu'\n",
        "print (f\"device: {device}\")"
      ],
      "metadata": {
        "colab": {
          "base_uri": "https://localhost:8080/"
        },
        "id": "XYa6sew6w60g",
        "outputId": "1cc019b2-9091-43d0-80ad-95c3a9ad25fd"
      },
      "execution_count": 22,
      "outputs": [
        {
          "output_type": "stream",
          "name": "stdout",
          "text": [
            "device: cpu\n"
          ]
        }
      ]
    },
    {
      "cell_type": "markdown",
      "source": [
        "## Cerate Data"
      ],
      "metadata": {
        "id": "G4j5OsrRxT1e"
      }
    },
    {
      "cell_type": "code",
      "source": [
        "# Create another dataset with different parameters\n",
        "weight = 0.5\n",
        "bias = 1\n",
        "\n",
        "X = torch.arange(0, 3, 0.02).unsqueeze(1)\n",
        "y = weight * X + bias\n",
        "\n",
        "len(X), len(y)"
      ],
      "metadata": {
        "colab": {
          "base_uri": "https://localhost:8080/"
        },
        "id": "NQ6nWfUw4T2T",
        "outputId": "68204f7e-6437-4a60-ba97-6ff50040e4aa"
      },
      "execution_count": 23,
      "outputs": [
        {
          "output_type": "execute_result",
          "data": {
            "text/plain": [
              "(150, 150)"
            ]
          },
          "metadata": {},
          "execution_count": 23
        }
      ]
    },
    {
      "cell_type": "markdown",
      "source": [
        "## Split the Data"
      ],
      "metadata": {
        "id": "QLlC5H_u5GG7"
      }
    },
    {
      "cell_type": "code",
      "source": [
        "split_size = int(0.8 * len(X))\n",
        "X_train, y_train = X[:split_size], y[:split_size]\n",
        "X_test, y_test = X[split_size:], y[split_size:]\n",
        "\n",
        "len(X_train), len(y_train), len(X_test), len(y_test)"
      ],
      "metadata": {
        "colab": {
          "base_uri": "https://localhost:8080/"
        },
        "id": "M-J_k6TQ5cTQ",
        "outputId": "964caab4-f836-46f3-d29a-5580dfe8aaed"
      },
      "execution_count": 24,
      "outputs": [
        {
          "output_type": "execute_result",
          "data": {
            "text/plain": [
              "(120, 120, 30, 30)"
            ]
          },
          "metadata": {},
          "execution_count": 24
        }
      ]
    },
    {
      "cell_type": "code",
      "source": [
        "plot_predictions(X_train, y_train, X_test, y_test)"
      ],
      "metadata": {
        "colab": {
          "base_uri": "https://localhost:8080/",
          "height": 599
        },
        "id": "uwhNC9yF5lK_",
        "outputId": "135a88fd-0448-4579-eb6a-c0d9ac16c579"
      },
      "execution_count": 25,
      "outputs": [
        {
          "output_type": "display_data",
          "data": {
            "text/plain": [
              "<Figure size 1000x700 with 1 Axes>"
            ],
            "image/png": "[encoded data removed]"
          },
          "metadata": {}
        }
      ]
    },
    {
      "cell_type": "markdown",
      "source": [
        "## The Model"
      ],
      "metadata": {
        "id": "dUHUNt6X6fJC"
      }
    },
    {
      "cell_type": "markdown",
      "source": [
        "### Model Class"
      ],
      "metadata": {
        "id": "GYeUbYwvEBxg"
      }
    },
    {
      "cell_type": "code",
      "source": [
        "class LinearRegressionModelV2(nn.Module):\n",
        "    def __init__(self):\n",
        "         super().__init__()\n",
        "         # weights = nn.parameter(torch.randn(1, requires_grad=True, dtype=torch.float))\n",
        "         # bias = nn.parameter(torch.randn(1, requires_grad=True, dtype=torch.float))\n",
        "         # instead of using the above way we can use a layer that have the parameters in built\n",
        "         self.linear_layer = nn.Linear(in_features=1, out_features=1) # the size of input and output\n",
        "\n",
        "    def forward(self, x: torch.Tensor) -> torch.Tensor: # this is python type hint see the link\n",
        "       return self.linear_layer(x)                       #https://docs.python.org/3/library/typing.html\n",
        "\n",
        "torch.manual_seed(42)\n",
        "model_1 = LinearRegressionModelV2()\n",
        "model_1.state_dict()"
      ],
      "metadata": {
        "colab": {
          "base_uri": "https://localhost:8080/"
        },
        "id": "SITbMPKE7Ldb",
        "outputId": "ca61a905-8a99-48e5-95c6-e3bb00b92ff6"
      },
      "execution_count": 26,
      "outputs": [
        {
          "output_type": "execute_result",
          "data": {
            "text/plain": [
              "OrderedDict([('linear_layer.weight', tensor([[0.7645]])),\n",
              "             ('linear_layer.bias', tensor([0.8300]))])"
            ]
          },
          "metadata": {},
          "execution_count": 26
        }
      ]
    },
    {
      "cell_type": "code",
      "source": [
        "# The device\n",
        "next(model_1.parameters()).device"
      ],
      "metadata": {
        "colab": {
          "base_uri": "https://localhost:8080/"
        },
        "id": "Wa9gUmbXFNt6",
        "outputId": "e2006064-6f71-464f-8a1c-234a2ce0dc69"
      },
      "execution_count": 27,
      "outputs": [
        {
          "output_type": "execute_result",
          "data": {
            "text/plain": [
              "device(type='cpu')"
            ]
          },
          "metadata": {},
          "execution_count": 27
        }
      ]
    },
    {
      "cell_type": "code",
      "source": [
        "model_1.to(device)\n",
        "next(model_1.parameters()).device   #will return cuda if the gpu is available"
      ],
      "metadata": {
        "colab": {
          "base_uri": "https://localhost:8080/"
        },
        "id": "tXyimovwFjFs",
        "outputId": "a021d238-5906-4aea-c313-b61842db9833"
      },
      "execution_count": 28,
      "outputs": [
        {
          "output_type": "execute_result",
          "data": {
            "text/plain": [
              "device(type='cpu')"
            ]
          },
          "metadata": {},
          "execution_count": 28
        }
      ]
    },
    {
      "cell_type": "markdown",
      "source": [
        "### Model Training"
      ],
      "metadata": {
        "id": "mf2mYKkbAgsU"
      }
    },
    {
      "cell_type": "code",
      "source": [
        "loss_fn = torch.nn.L1Loss()\n",
        "optimizer = torch.optim.SGD(params=model_1.parameters(),\n",
        "                            lr=0.001)"
      ],
      "metadata": {
        "id": "9wdudk5DGSb4"
      },
      "execution_count": 29,
      "outputs": []
    },
    {
      "cell_type": "code",
      "source": [
        "epochs = 1500\n",
        "\n",
        "epoch_count = []\n",
        "train_loss_values = []\n",
        "test_loss_values = []\n",
        "\n",
        "for epoch in range(epochs):\n",
        "  # Training ...\n",
        "  model_1.train()\n",
        "  y_preds = model_1(X_train)\n",
        "  loss = loss_fn(y_preds, y_train)\n",
        "  optimizer.zero_grad()\n",
        "  loss.backward()\n",
        "  optimizer.step()\n",
        "\n",
        "  # Testing ...\n",
        "  model_1.eval()\n",
        "  with torch.inference_mode():\n",
        "    model_1_preds = model_1(X_test)\n",
        "    test_loss = loss_fn(model_1_preds, y_test)\n",
        "    epoch_count.append(epoch)\n",
        "    train_loss_values.append(loss)\n",
        "    test_loss_values.append(test_loss)\n",
        "\n",
        "  if epoch % 20 == 0:\n",
        "    print(f\"epoch: {epoch} | Training loss: {loss} | Testing Loss: {test_loss}\")\n",
        "    #print(f\"           {model_1.state_dict()}\")"
      ],
      "metadata": {
        "colab": {
          "base_uri": "https://localhost:8080/"
        },
        "id": "fjpiVj9LEJHy",
        "outputId": "292888fb-ec85-45d0-a376-cc63da07a994"
      },
      "execution_count": 30,
      "outputs": [
        {
          "output_type": "stream",
          "name": "stdout",
          "text": [
            "epoch: 0 | Training loss: 0.1917456090450287 | Testing Loss: 0.5384388566017151\n",
            "epoch: 20 | Training loss: 0.16841717064380646 | Testing Loss: 0.47667473554611206\n",
            "epoch: 40 | Training loss: 0.14829233288764954 | Testing Loss: 0.41931819915771484\n",
            "epoch: 60 | Training loss: 0.13146944344043732 | Testing Loss: 0.36694595217704773\n",
            "epoch: 80 | Training loss: 0.11783432215452194 | Testing Loss: 0.3201832175254822\n",
            "epoch: 100 | Training loss: 0.1071382537484169 | Testing Loss: 0.27938973903656006\n",
            "epoch: 120 | Training loss: 0.09896793216466904 | Testing Loss: 0.24463336169719696\n",
            "epoch: 140 | Training loss: 0.09282315522432327 | Testing Loss: 0.2159206122159958\n",
            "epoch: 160 | Training loss: 0.08816223591566086 | Testing Loss: 0.19290386140346527\n",
            "epoch: 180 | Training loss: 0.08445320278406143 | Testing Loss: 0.17458780109882355\n",
            "epoch: 200 | Training loss: 0.08133602887392044 | Testing Loss: 0.1603267341852188\n",
            "epoch: 220 | Training loss: 0.07852239906787872 | Testing Loss: 0.1489994376897812\n",
            "epoch: 240 | Training loss: 0.07588241249322891 | Testing Loss: 0.1400773972272873\n",
            "epoch: 260 | Training loss: 0.07330839335918427 | Testing Loss: 0.1325821727514267\n",
            "epoch: 280 | Training loss: 0.0707809254527092 | Testing Loss: 0.12669876217842102\n",
            "epoch: 300 | Training loss: 0.06825345009565353 | Testing Loss: 0.12081534415483475\n",
            "epoch: 320 | Training loss: 0.06573442369699478 | Testing Loss: 0.11587497591972351\n",
            "epoch: 340 | Training loss: 0.06322042644023895 | Testing Loss: 0.11144904047250748\n",
            "epoch: 360 | Training loss: 0.060706451535224915 | Testing Loss: 0.10702309757471085\n",
            "epoch: 380 | Training loss: 0.058192554861307144 | Testing Loss: 0.10251141339540482\n",
            "epoch: 400 | Training loss: 0.055678609758615494 | Testing Loss: 0.09808545559644699\n",
            "epoch: 420 | Training loss: 0.053164634853601456 | Testing Loss: 0.09365952014923096\n",
            "epoch: 440 | Training loss: 0.050650645047426224 | Testing Loss: 0.08923360705375671\n",
            "epoch: 460 | Training loss: 0.04813666641712189 | Testing Loss: 0.08480764180421829\n",
            "epoch: 480 | Training loss: 0.04562267288565636 | Testing Loss: 0.08038169890642166\n",
            "epoch: 500 | Training loss: 0.043108828365802765 | Testing Loss: 0.07587003707885742\n",
            "epoch: 520 | Training loss: 0.040594782680273056 | Testing Loss: 0.07148698717355728\n",
            "epoch: 540 | Training loss: 0.038080789148807526 | Testing Loss: 0.06706105172634125\n",
            "epoch: 560 | Training loss: 0.03556694835424423 | Testing Loss: 0.06254936754703522\n",
            "epoch: 580 | Training loss: 0.03305297717452049 | Testing Loss: 0.05812344700098038\n",
            "epoch: 600 | Training loss: 0.030538983643054962 | Testing Loss: 0.05369751527905464\n",
            "epoch: 620 | Training loss: 0.028025006875395775 | Testing Loss: 0.04927156865596771\n",
            "epoch: 640 | Training loss: 0.02551102824509144 | Testing Loss: 0.04484560340642929\n",
            "epoch: 660 | Training loss: 0.02299707569181919 | Testing Loss: 0.04033393785357475\n",
            "epoch: 680 | Training loss: 0.020483188331127167 | Testing Loss: 0.03590800613164902\n",
            "epoch: 700 | Training loss: 0.017969200387597084 | Testing Loss: 0.031482066959142685\n",
            "epoch: 720 | Training loss: 0.015455213375389576 | Testing Loss: 0.027056114748120308\n",
            "epoch: 740 | Training loss: 0.012941226363182068 | Testing Loss: 0.02263016626238823\n",
            "epoch: 760 | Training loss: 0.010427250526845455 | Testing Loss: 0.018204251304268837\n",
            "epoch: 780 | Training loss: 0.00791335292160511 | Testing Loss: 0.013692561537027359\n",
            "epoch: 800 | Training loss: 0.005399411544203758 | Testing Loss: 0.00926661491394043\n",
            "epoch: 820 | Training loss: 0.0028854270931333303 | Testing Loss: 0.004840684123337269\n",
            "epoch: 840 | Training loss: 0.0004217346431687474 | Testing Loss: 0.0025221745017915964\n",
            "epoch: 860 | Training loss: 0.0011548484908416867 | Testing Loss: 0.0028321424033492804\n",
            "epoch: 880 | Training loss: 0.0011548484908416867 | Testing Loss: 0.0028321424033492804\n",
            "epoch: 900 | Training loss: 0.0011548484908416867 | Testing Loss: 0.0028321424033492804\n",
            "epoch: 920 | Training loss: 0.0011548484908416867 | Testing Loss: 0.0028321424033492804\n",
            "epoch: 940 | Training loss: 0.0011548484908416867 | Testing Loss: 0.0028321424033492804\n",
            "epoch: 960 | Training loss: 0.0011548484908416867 | Testing Loss: 0.0028321424033492804\n",
            "epoch: 980 | Training loss: 0.0011548484908416867 | Testing Loss: 0.0028321424033492804\n",
            "epoch: 1000 | Training loss: 0.0011548484908416867 | Testing Loss: 0.0028321424033492804\n",
            "epoch: 1020 | Training loss: 0.0011548484908416867 | Testing Loss: 0.0028321424033492804\n",
            "epoch: 1040 | Training loss: 0.0011548484908416867 | Testing Loss: 0.0028321424033492804\n",
            "epoch: 1060 | Training loss: 0.0011548484908416867 | Testing Loss: 0.0028321424033492804\n",
            "epoch: 1080 | Training loss: 0.0011548484908416867 | Testing Loss: 0.0028321424033492804\n",
            "epoch: 1100 | Training loss: 0.0011548484908416867 | Testing Loss: 0.0028321424033492804\n",
            "epoch: 1120 | Training loss: 0.0011548484908416867 | Testing Loss: 0.0028321424033492804\n",
            "epoch: 1140 | Training loss: 0.0011548484908416867 | Testing Loss: 0.0028321424033492804\n",
            "epoch: 1160 | Training loss: 0.0011548484908416867 | Testing Loss: 0.0028321424033492804\n",
            "epoch: 1180 | Training loss: 0.0011548484908416867 | Testing Loss: 0.0028321424033492804\n",
            "epoch: 1200 | Training loss: 0.0011548484908416867 | Testing Loss: 0.0028321424033492804\n",
            "epoch: 1220 | Training loss: 0.0011548484908416867 | Testing Loss: 0.0028321424033492804\n",
            "epoch: 1240 | Training loss: 0.0011548484908416867 | Testing Loss: 0.0028321424033492804\n",
            "epoch: 1260 | Training loss: 0.0011548484908416867 | Testing Loss: 0.0028321424033492804\n",
            "epoch: 1280 | Training loss: 0.0011548484908416867 | Testing Loss: 0.0028321424033492804\n",
            "epoch: 1300 | Training loss: 0.0011548484908416867 | Testing Loss: 0.0028321424033492804\n",
            "epoch: 1320 | Training loss: 0.0011548484908416867 | Testing Loss: 0.0028321424033492804\n",
            "epoch: 1340 | Training loss: 0.0011548484908416867 | Testing Loss: 0.0028321424033492804\n",
            "epoch: 1360 | Training loss: 0.0011548484908416867 | Testing Loss: 0.0028321424033492804\n",
            "epoch: 1380 | Training loss: 0.0011548484908416867 | Testing Loss: 0.0028321424033492804\n",
            "epoch: 1400 | Training loss: 0.0011548484908416867 | Testing Loss: 0.0028321424033492804\n",
            "epoch: 1420 | Training loss: 0.0011548484908416867 | Testing Loss: 0.0028321424033492804\n",
            "epoch: 1440 | Training loss: 0.0011548484908416867 | Testing Loss: 0.0028321424033492804\n",
            "epoch: 1460 | Training loss: 0.0011548484908416867 | Testing Loss: 0.0028321424033492804\n",
            "epoch: 1480 | Training loss: 0.0011548484908416867 | Testing Loss: 0.0028321424033492804\n"
          ]
        }
      ]
    },
    {
      "cell_type": "code",
      "source": [
        "plot_predictions(X_train, y_train, X_test, y_test, prediction=model_1_preds)"
      ],
      "metadata": {
        "colab": {
          "base_uri": "https://localhost:8080/",
          "height": 599
        },
        "id": "SUYkGF3_JR6x",
        "outputId": "e593ba5b-7f67-4827-a116-0f4eca0ec75f"
      },
      "execution_count": 31,
      "outputs": [
        {
          "output_type": "display_data",
          "data": {
            "text/plain": [
              "<Figure size 1000x700 with 1 Axes>"
            ],
            "image/png": "[encoded data removed]"
          },
          "metadata": {}
        }
      ]
    },
    {
      "cell_type": "markdown",
      "source": [
        "## Save and Load"
      ],
      "metadata": {
        "id": "1JaGj28POUq6"
      }
    },
    {
      "cell_type": "code",
      "source": [
        "MODEL_NAME = \"01_linear_regresion_model_1.pt\"\n",
        "MODEL_SAVE_PATH = MODEL_PATH / MODEL_NAME"
      ],
      "metadata": {
        "id": "MK9Wz6z6QBMj"
      },
      "execution_count": 32,
      "outputs": []
    },
    {
      "cell_type": "code",
      "source": [
        "# Save the entire model\n",
        "torch.save(model_1, MODEL_SAVE_PATH)"
      ],
      "metadata": {
        "id": "xQ4DFTm4QOxF"
      },
      "execution_count": 33,
      "outputs": []
    },
    {
      "cell_type": "code",
      "source": [
        "# Load it back\n",
        "loaded_model_1 = torch.load(MODEL_SAVE_PATH)\n",
        "loaded_model_1.state_dict()"
      ],
      "metadata": {
        "colab": {
          "base_uri": "https://localhost:8080/"
        },
        "id": "1QS4EfkuQqtA",
        "outputId": "b433fb37-da41-4504-fce0-73c7d334e253"
      },
      "execution_count": 34,
      "outputs": [
        {
          "output_type": "execute_result",
          "data": {
            "text/plain": [
              "OrderedDict([('linear_layer.weight', tensor([[0.4999]])),\n",
              "             ('linear_layer.bias', tensor([0.9990]))])"
            ]
          },
          "metadata": {},
          "execution_count": 34
        }
      ]
    },
    {
      "cell_type": "code",
      "source": [
        "model_1.state_dict() == loaded_model_1.state_dict()"
      ],
      "metadata": {
        "colab": {
          "base_uri": "https://localhost:8080/"
        },
        "id": "YAchHpawRf3D",
        "outputId": "e9563080-0875-4c1c-8956-99e0e32fa315"
      },
      "execution_count": 35,
      "outputs": [
        {
          "output_type": "execute_result",
          "data": {
            "text/plain": [
              "True"
            ]
          },
          "metadata": {},
          "execution_count": 35
        }
      ]
    },
    {
      "cell_type": "code",
      "source": [],
      "metadata": {
        "id": "SF0AZyB0RqLC"
      },
      "execution_count": null,
      "outputs": []
    }
  ]
}